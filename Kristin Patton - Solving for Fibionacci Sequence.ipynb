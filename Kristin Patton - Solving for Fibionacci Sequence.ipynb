{
 "cells": [
  {
   "cell_type": "code",
   "execution_count": 3,
   "id": "5fa09f0e-22f1-4763-814c-758d3054d8a8",
   "metadata": {},
   "outputs": [
    {
     "name": "stdout",
     "output_type": "stream",
     "text": [
      "The largest Fibonacci number representable by a 64-bit integer is: 12200160415121876738\n",
      "This is the 94 th number in the fibionacci sequence.\n",
      "lambda = 1.618033988749895\n",
      "The value of m such that lambda^m < Fibmax < lambda^(m+1) is: 92\n"
     ]
    }
   ],
   "source": [
    "import numpy as np\n",
    "\n",
    "max_value = np.iinfo(np.int64).max\n",
    "fib = [0, 1]\n",
    "count = 2\n",
    "while fib[-1] <= max_value:\n",
    "    next_fib = fib[-1] + fib[-2]\n",
    "    fib.append(next_fib)\n",
    "    count += 1\n",
    "\n",
    "print('The largest Fibonacci number representable by a 64-bit integer is:', fib[-1])\n",
    "print('This is the', count, 'th number in the fibionacci sequence.')\n",
    "\n",
    "lam = fib[-1]/fib[-2]\n",
    "print(f\"lambda = {lam}\")\n",
    "m = 0\n",
    "while lam**m < fib[-1]:\n",
    "    m += 1\n",
    "\n",
    "print(\"The value of m such that lambda^m < Fibmax < lambda^(m+1) is:\", m)"
   ]
  }
 ],
 "metadata": {
  "kernelspec": {
   "display_name": "Python 3 (ipykernel)",
   "language": "python",
   "name": "python3"
  },
  "language_info": {
   "codemirror_mode": {
    "name": "ipython",
    "version": 3
   },
   "file_extension": ".py",
   "mimetype": "text/x-python",
   "name": "python",
   "nbconvert_exporter": "python",
   "pygments_lexer": "ipython3",
   "version": "3.12.4"
  }
 },
 "nbformat": 4,
 "nbformat_minor": 5
}
